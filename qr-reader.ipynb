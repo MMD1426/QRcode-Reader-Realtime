{
 "cells": [
  {
   "cell_type": "code",
   "execution_count": 184,
   "metadata": {},
   "outputs": [],
   "source": [
    "import cv2\n",
    "from pyzbar.pyzbar import decode\n",
    "import numpy as np\n",
    "from datetime import datetime"
   ]
  },
  {
   "cell_type": "code",
   "execution_count": 185,
   "metadata": {},
   "outputs": [],
   "source": [
    "with open('data_qr_code.csv','r') as f:\n",
    "    anuthorized_users = [i[:-1] for i in f.readlines() if len(i) > 2]"
   ]
  },
  {
   "cell_type": "code",
   "execution_count": 187,
   "metadata": {},
   "outputs": [],
   "source": [
    "while True:\n",
    "    cap = cv2.VideoCapture(0)\n",
    "\n",
    "    ret, frame = cap.read()\n",
    "\n",
    "    cap = cv2.resize(frame, None, fx=0.5, fy=0.5, interpolation=cv2.INTER_AREA)\n",
    "\n",
    "    qr_info = decode(frame)\n",
    "\n",
    "    time = datetime.now().strftime(\"%H:%M:%S\")\n",
    "    date = datetime.now().strftime(\"%d/%m/%Y\")\n",
    "\n",
    "    if len(qr_info) > 0:\n",
    "\n",
    "\n",
    "        qr = qr_info[0]\n",
    "        data = qr.data\n",
    "        rect = qr.rect\n",
    "        polygon = qr.polygon\n",
    "    \n",
    "    \n",
    "        if data.decode() not in anuthorized_users:\n",
    "            cv2.putText(frame, data.decode(), (0, 30), cv2.FONT_HERSHEY_SIMPLEX, 0.6, (0, 255, 0), 2)\n",
    "            \n",
    "            with open('attendanced-syatem.csv','a') as f:\n",
    "                f.write(f'{data.decode()},{date},{time}\\n')\n",
    "                f.close()\n",
    "            with open('data_qr_code.csv','a') as f:\n",
    "                f.write(f'{data.decode()}\\n')\n",
    "                f.close()\n",
    "            break\n",
    "        else:\n",
    "            cv2.putText(frame, 'This is exist', (0, 30), cv2.FONT_HERSHEY_SIMPLEX, 0.6, (0, 0, 255), 2)\n",
    "            cv2.putText(frame, data.decode(), (0, 40), cv2.FONT_HERSHEY_SIMPLEX, 0.6, (0, 0, 255), 2)\n",
    "\n",
    "\n",
    "        cv2.polylines(frame,[np.array(polygon)],True,(0,255,0),3)\n",
    "\n",
    "    cv2.imshow('Qr Reader', frame)\n",
    "\n",
    "    if cv2.waitKey(1) & 0xFF == ord('q'):\n",
    "        break\n",
    "\n",
    "cap.release()\n",
    "cv2.destroyAllWindows()"
   ]
  }
 ],
 "metadata": {
  "kernelspec": {
   "display_name": "Python 3",
   "language": "python",
   "name": "python3"
  },
  "language_info": {
   "codemirror_mode": {
    "name": "ipython",
    "version": 3
   },
   "file_extension": ".py",
   "mimetype": "text/x-python",
   "name": "python",
   "nbconvert_exporter": "python",
   "pygments_lexer": "ipython3",
   "version": "3.8.1"
  }
 },
 "nbformat": 4,
 "nbformat_minor": 2
}
